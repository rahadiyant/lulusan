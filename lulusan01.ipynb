{
  "nbformat": 4,
  "nbformat_minor": 0,
  "metadata": {
    "colab": {
      "provenance": [],
      "authorship_tag": "ABX9TyNNEHVunCn+Uey5nsOBtogR",
      "include_colab_link": true
    },
    "kernelspec": {
      "name": "python3",
      "display_name": "Python 3"
    },
    "language_info": {
      "name": "python"
    }
  },
  "cells": [
    {
      "cell_type": "markdown",
      "metadata": {
        "id": "view-in-github",
        "colab_type": "text"
      },
      "source": [
        "<a href=\"https://colab.research.google.com/github/rahadiyant/lulusan/blob/main/lulusan01.ipynb\" target=\"_parent\"><img src=\"https://colab.research.google.com/assets/colab-badge.svg\" alt=\"Open In Colab\"/></a>"
      ]
    },
    {
      "cell_type": "code",
      "execution_count": 1,
      "metadata": {
        "colab": {
          "base_uri": "https://localhost:8080/"
        },
        "id": "Gvj59AiPFz9o",
        "outputId": "efb8ea5d-10fc-4a1c-a30e-0fc9ae416c56"
      },
      "outputs": [
        {
          "output_type": "stream",
          "name": "stdout",
          "text": [
            "Collecting streamlit\n",
            "  Downloading streamlit-1.36.0-py2.py3-none-any.whl (8.6 MB)\n",
            "\u001b[2K     \u001b[90m━━━━━━━━━━━━━━━━━━━━━━━━━━━━━━━━━━━━━━━━\u001b[0m \u001b[32m8.6/8.6 MB\u001b[0m \u001b[31m16.9 MB/s\u001b[0m eta \u001b[36m0:00:00\u001b[0m\n",
            "\u001b[?25hRequirement already satisfied: altair<6,>=4.0 in /usr/local/lib/python3.10/dist-packages (from streamlit) (4.2.2)\n",
            "Requirement already satisfied: blinker<2,>=1.0.0 in /usr/lib/python3/dist-packages (from streamlit) (1.4)\n",
            "Requirement already satisfied: cachetools<6,>=4.0 in /usr/local/lib/python3.10/dist-packages (from streamlit) (5.3.3)\n",
            "Requirement already satisfied: click<9,>=7.0 in /usr/local/lib/python3.10/dist-packages (from streamlit) (8.1.7)\n",
            "Requirement already satisfied: numpy<3,>=1.20 in /usr/local/lib/python3.10/dist-packages (from streamlit) (1.25.2)\n",
            "Requirement already satisfied: packaging<25,>=20 in /usr/local/lib/python3.10/dist-packages (from streamlit) (24.1)\n",
            "Requirement already satisfied: pandas<3,>=1.3.0 in /usr/local/lib/python3.10/dist-packages (from streamlit) (2.0.3)\n",
            "Requirement already satisfied: pillow<11,>=7.1.0 in /usr/local/lib/python3.10/dist-packages (from streamlit) (9.4.0)\n",
            "Requirement already satisfied: protobuf<6,>=3.20 in /usr/local/lib/python3.10/dist-packages (from streamlit) (3.20.3)\n",
            "Requirement already satisfied: pyarrow>=7.0 in /usr/local/lib/python3.10/dist-packages (from streamlit) (14.0.2)\n",
            "Requirement already satisfied: requests<3,>=2.27 in /usr/local/lib/python3.10/dist-packages (from streamlit) (2.31.0)\n",
            "Requirement already satisfied: rich<14,>=10.14.0 in /usr/local/lib/python3.10/dist-packages (from streamlit) (13.7.1)\n",
            "Requirement already satisfied: tenacity<9,>=8.1.0 in /usr/local/lib/python3.10/dist-packages (from streamlit) (8.4.1)\n",
            "Requirement already satisfied: toml<2,>=0.10.1 in /usr/local/lib/python3.10/dist-packages (from streamlit) (0.10.2)\n",
            "Requirement already satisfied: typing-extensions<5,>=4.3.0 in /usr/local/lib/python3.10/dist-packages (from streamlit) (4.12.2)\n",
            "Collecting gitpython!=3.1.19,<4,>=3.0.7 (from streamlit)\n",
            "  Downloading GitPython-3.1.43-py3-none-any.whl (207 kB)\n",
            "\u001b[2K     \u001b[90m━━━━━━━━━━━━━━━━━━━━━━━━━━━━━━━━━━━━━━━━\u001b[0m \u001b[32m207.3/207.3 kB\u001b[0m \u001b[31m11.8 MB/s\u001b[0m eta \u001b[36m0:00:00\u001b[0m\n",
            "\u001b[?25hCollecting pydeck<1,>=0.8.0b4 (from streamlit)\n",
            "  Downloading pydeck-0.9.1-py2.py3-none-any.whl (6.9 MB)\n",
            "\u001b[2K     \u001b[90m━━━━━━━━━━━━━━━━━━━━━━━━━━━━━━━━━━━━━━━━\u001b[0m \u001b[32m6.9/6.9 MB\u001b[0m \u001b[31m35.1 MB/s\u001b[0m eta \u001b[36m0:00:00\u001b[0m\n",
            "\u001b[?25hRequirement already satisfied: tornado<7,>=6.0.3 in /usr/local/lib/python3.10/dist-packages (from streamlit) (6.3.3)\n",
            "Collecting watchdog<5,>=2.1.5 (from streamlit)\n",
            "  Downloading watchdog-4.0.1-py3-none-manylinux2014_x86_64.whl (83 kB)\n",
            "\u001b[2K     \u001b[90m━━━━━━━━━━━━━━━━━━━━━━━━━━━━━━━━━━━━━━━━\u001b[0m \u001b[32m83.0/83.0 kB\u001b[0m \u001b[31m3.5 MB/s\u001b[0m eta \u001b[36m0:00:00\u001b[0m\n",
            "\u001b[?25hRequirement already satisfied: entrypoints in /usr/local/lib/python3.10/dist-packages (from altair<6,>=4.0->streamlit) (0.4)\n",
            "Requirement already satisfied: jinja2 in /usr/local/lib/python3.10/dist-packages (from altair<6,>=4.0->streamlit) (3.1.4)\n",
            "Requirement already satisfied: jsonschema>=3.0 in /usr/local/lib/python3.10/dist-packages (from altair<6,>=4.0->streamlit) (4.19.2)\n",
            "Requirement already satisfied: toolz in /usr/local/lib/python3.10/dist-packages (from altair<6,>=4.0->streamlit) (0.12.1)\n",
            "Collecting gitdb<5,>=4.0.1 (from gitpython!=3.1.19,<4,>=3.0.7->streamlit)\n",
            "  Downloading gitdb-4.0.11-py3-none-any.whl (62 kB)\n",
            "\u001b[2K     \u001b[90m━━━━━━━━━━━━━━━━━━━━━━━━━━━━━━━━━━━━━━━━\u001b[0m \u001b[32m62.7/62.7 kB\u001b[0m \u001b[31m2.4 MB/s\u001b[0m eta \u001b[36m0:00:00\u001b[0m\n",
            "\u001b[?25hRequirement already satisfied: python-dateutil>=2.8.2 in /usr/local/lib/python3.10/dist-packages (from pandas<3,>=1.3.0->streamlit) (2.8.2)\n",
            "Requirement already satisfied: pytz>=2020.1 in /usr/local/lib/python3.10/dist-packages (from pandas<3,>=1.3.0->streamlit) (2023.4)\n",
            "Requirement already satisfied: tzdata>=2022.1 in /usr/local/lib/python3.10/dist-packages (from pandas<3,>=1.3.0->streamlit) (2024.1)\n",
            "Requirement already satisfied: charset-normalizer<4,>=2 in /usr/local/lib/python3.10/dist-packages (from requests<3,>=2.27->streamlit) (3.3.2)\n",
            "Requirement already satisfied: idna<4,>=2.5 in /usr/local/lib/python3.10/dist-packages (from requests<3,>=2.27->streamlit) (3.7)\n",
            "Requirement already satisfied: urllib3<3,>=1.21.1 in /usr/local/lib/python3.10/dist-packages (from requests<3,>=2.27->streamlit) (2.0.7)\n",
            "Requirement already satisfied: certifi>=2017.4.17 in /usr/local/lib/python3.10/dist-packages (from requests<3,>=2.27->streamlit) (2024.6.2)\n",
            "Requirement already satisfied: markdown-it-py>=2.2.0 in /usr/local/lib/python3.10/dist-packages (from rich<14,>=10.14.0->streamlit) (3.0.0)\n",
            "Requirement already satisfied: pygments<3.0.0,>=2.13.0 in /usr/local/lib/python3.10/dist-packages (from rich<14,>=10.14.0->streamlit) (2.16.1)\n",
            "Collecting smmap<6,>=3.0.1 (from gitdb<5,>=4.0.1->gitpython!=3.1.19,<4,>=3.0.7->streamlit)\n",
            "  Downloading smmap-5.0.1-py3-none-any.whl (24 kB)\n",
            "Requirement already satisfied: MarkupSafe>=2.0 in /usr/local/lib/python3.10/dist-packages (from jinja2->altair<6,>=4.0->streamlit) (2.1.5)\n",
            "Requirement already satisfied: attrs>=22.2.0 in /usr/local/lib/python3.10/dist-packages (from jsonschema>=3.0->altair<6,>=4.0->streamlit) (23.2.0)\n",
            "Requirement already satisfied: jsonschema-specifications>=2023.03.6 in /usr/local/lib/python3.10/dist-packages (from jsonschema>=3.0->altair<6,>=4.0->streamlit) (2023.12.1)\n",
            "Requirement already satisfied: referencing>=0.28.4 in /usr/local/lib/python3.10/dist-packages (from jsonschema>=3.0->altair<6,>=4.0->streamlit) (0.35.1)\n",
            "Requirement already satisfied: rpds-py>=0.7.1 in /usr/local/lib/python3.10/dist-packages (from jsonschema>=3.0->altair<6,>=4.0->streamlit) (0.18.1)\n",
            "Requirement already satisfied: mdurl~=0.1 in /usr/local/lib/python3.10/dist-packages (from markdown-it-py>=2.2.0->rich<14,>=10.14.0->streamlit) (0.1.2)\n",
            "Requirement already satisfied: six>=1.5 in /usr/local/lib/python3.10/dist-packages (from python-dateutil>=2.8.2->pandas<3,>=1.3.0->streamlit) (1.16.0)\n",
            "Installing collected packages: watchdog, smmap, pydeck, gitdb, gitpython, streamlit\n",
            "Successfully installed gitdb-4.0.11 gitpython-3.1.43 pydeck-0.9.1 smmap-5.0.1 streamlit-1.36.0 watchdog-4.0.1\n"
          ]
        }
      ],
      "source": [
        "!pip install streamlit"
      ]
    },
    {
      "cell_type": "markdown",
      "source": [],
      "metadata": {
        "id": "FoBEmEDnGXTr"
      }
    },
    {
      "cell_type": "code",
      "source": [
        "!pip install pandas\n"
      ],
      "metadata": {
        "colab": {
          "base_uri": "https://localhost:8080/"
        },
        "id": "KLuj2NZyGaw2",
        "outputId": "aa02f22c-7cf8-4204-ab86-3f7cb2671b7a"
      },
      "execution_count": 2,
      "outputs": [
        {
          "output_type": "stream",
          "name": "stdout",
          "text": [
            "Requirement already satisfied: pandas in /usr/local/lib/python3.10/dist-packages (2.0.3)\n",
            "Requirement already satisfied: python-dateutil>=2.8.2 in /usr/local/lib/python3.10/dist-packages (from pandas) (2.8.2)\n",
            "Requirement already satisfied: pytz>=2020.1 in /usr/local/lib/python3.10/dist-packages (from pandas) (2023.4)\n",
            "Requirement already satisfied: tzdata>=2022.1 in /usr/local/lib/python3.10/dist-packages (from pandas) (2024.1)\n",
            "Requirement already satisfied: numpy>=1.21.0 in /usr/local/lib/python3.10/dist-packages (from pandas) (1.25.2)\n",
            "Requirement already satisfied: six>=1.5 in /usr/local/lib/python3.10/dist-packages (from python-dateutil>=2.8.2->pandas) (1.16.0)\n"
          ]
        }
      ]
    },
    {
      "cell_type": "code",
      "source": [
        "!pip install matplotlib"
      ],
      "metadata": {
        "colab": {
          "base_uri": "https://localhost:8080/"
        },
        "id": "r4XZoupSHMPu",
        "outputId": "b1edacfb-a1aa-4460-f3a9-4f712043cbe6"
      },
      "execution_count": 3,
      "outputs": [
        {
          "output_type": "stream",
          "name": "stdout",
          "text": [
            "Requirement already satisfied: matplotlib in /usr/local/lib/python3.10/dist-packages (3.7.1)\n",
            "Requirement already satisfied: contourpy>=1.0.1 in /usr/local/lib/python3.10/dist-packages (from matplotlib) (1.2.1)\n",
            "Requirement already satisfied: cycler>=0.10 in /usr/local/lib/python3.10/dist-packages (from matplotlib) (0.12.1)\n",
            "Requirement already satisfied: fonttools>=4.22.0 in /usr/local/lib/python3.10/dist-packages (from matplotlib) (4.53.0)\n",
            "Requirement already satisfied: kiwisolver>=1.0.1 in /usr/local/lib/python3.10/dist-packages (from matplotlib) (1.4.5)\n",
            "Requirement already satisfied: numpy>=1.20 in /usr/local/lib/python3.10/dist-packages (from matplotlib) (1.25.2)\n",
            "Requirement already satisfied: packaging>=20.0 in /usr/local/lib/python3.10/dist-packages (from matplotlib) (24.1)\n",
            "Requirement already satisfied: pillow>=6.2.0 in /usr/local/lib/python3.10/dist-packages (from matplotlib) (9.4.0)\n",
            "Requirement already satisfied: pyparsing>=2.3.1 in /usr/local/lib/python3.10/dist-packages (from matplotlib) (3.1.2)\n",
            "Requirement already satisfied: python-dateutil>=2.7 in /usr/local/lib/python3.10/dist-packages (from matplotlib) (2.8.2)\n",
            "Requirement already satisfied: six>=1.5 in /usr/local/lib/python3.10/dist-packages (from python-dateutil>=2.7->matplotlib) (1.16.0)\n"
          ]
        }
      ]
    },
    {
      "cell_type": "code",
      "source": [
        "!pip install seaborn"
      ],
      "metadata": {
        "colab": {
          "base_uri": "https://localhost:8080/"
        },
        "id": "14KKwSwbHYcq",
        "outputId": "804f5b64-b5f2-499b-8001-5958f4ee10ff"
      },
      "execution_count": 4,
      "outputs": [
        {
          "output_type": "stream",
          "name": "stdout",
          "text": [
            "Requirement already satisfied: seaborn in /usr/local/lib/python3.10/dist-packages (0.13.1)\n",
            "Requirement already satisfied: numpy!=1.24.0,>=1.20 in /usr/local/lib/python3.10/dist-packages (from seaborn) (1.25.2)\n",
            "Requirement already satisfied: pandas>=1.2 in /usr/local/lib/python3.10/dist-packages (from seaborn) (2.0.3)\n",
            "Requirement already satisfied: matplotlib!=3.6.1,>=3.4 in /usr/local/lib/python3.10/dist-packages (from seaborn) (3.7.1)\n",
            "Requirement already satisfied: contourpy>=1.0.1 in /usr/local/lib/python3.10/dist-packages (from matplotlib!=3.6.1,>=3.4->seaborn) (1.2.1)\n",
            "Requirement already satisfied: cycler>=0.10 in /usr/local/lib/python3.10/dist-packages (from matplotlib!=3.6.1,>=3.4->seaborn) (0.12.1)\n",
            "Requirement already satisfied: fonttools>=4.22.0 in /usr/local/lib/python3.10/dist-packages (from matplotlib!=3.6.1,>=3.4->seaborn) (4.53.0)\n",
            "Requirement already satisfied: kiwisolver>=1.0.1 in /usr/local/lib/python3.10/dist-packages (from matplotlib!=3.6.1,>=3.4->seaborn) (1.4.5)\n",
            "Requirement already satisfied: packaging>=20.0 in /usr/local/lib/python3.10/dist-packages (from matplotlib!=3.6.1,>=3.4->seaborn) (24.1)\n",
            "Requirement already satisfied: pillow>=6.2.0 in /usr/local/lib/python3.10/dist-packages (from matplotlib!=3.6.1,>=3.4->seaborn) (9.4.0)\n",
            "Requirement already satisfied: pyparsing>=2.3.1 in /usr/local/lib/python3.10/dist-packages (from matplotlib!=3.6.1,>=3.4->seaborn) (3.1.2)\n",
            "Requirement already satisfied: python-dateutil>=2.7 in /usr/local/lib/python3.10/dist-packages (from matplotlib!=3.6.1,>=3.4->seaborn) (2.8.2)\n",
            "Requirement already satisfied: pytz>=2020.1 in /usr/local/lib/python3.10/dist-packages (from pandas>=1.2->seaborn) (2023.4)\n",
            "Requirement already satisfied: tzdata>=2022.1 in /usr/local/lib/python3.10/dist-packages (from pandas>=1.2->seaborn) (2024.1)\n",
            "Requirement already satisfied: six>=1.5 in /usr/local/lib/python3.10/dist-packages (from python-dateutil>=2.7->matplotlib!=3.6.1,>=3.4->seaborn) (1.16.0)\n"
          ]
        }
      ]
    },
    {
      "cell_type": "code",
      "source": [
        "!pip install pyngrok"
      ],
      "metadata": {
        "colab": {
          "base_uri": "https://localhost:8080/"
        },
        "id": "mxLLeEjPHwDr",
        "outputId": "23192ecf-e564-43bf-d1be-cc310cdb48fd"
      },
      "execution_count": 5,
      "outputs": [
        {
          "output_type": "stream",
          "name": "stdout",
          "text": [
            "Collecting pyngrok\n",
            "  Downloading pyngrok-7.1.6-py3-none-any.whl (22 kB)\n",
            "Requirement already satisfied: PyYAML>=5.1 in /usr/local/lib/python3.10/dist-packages (from pyngrok) (6.0.1)\n",
            "Installing collected packages: pyngrok\n",
            "Successfully installed pyngrok-7.1.6\n"
          ]
        }
      ]
    },
    {
      "cell_type": "markdown",
      "source": [],
      "metadata": {
        "id": "ZBcjmI08IuEe"
      }
    },
    {
      "cell_type": "code",
      "source": [
        "!npm install -g localtunnel"
      ],
      "metadata": {
        "colab": {
          "base_uri": "https://localhost:8080/"
        },
        "id": "Gtl6ppqsIzKC",
        "outputId": "41106e1b-ca44-4733-db54-29a8263543f9"
      },
      "execution_count": 6,
      "outputs": [
        {
          "output_type": "stream",
          "name": "stdout",
          "text": [
            "\u001b[K\u001b[?25h/tools/node/bin/lt -> /tools/node/lib/node_modules/localtunnel/bin/lt.js\n",
            "\u001b[K\u001b[?25h+ localtunnel@2.0.2\n",
            "added 22 packages from 22 contributors in 3.186s\n"
          ]
        }
      ]
    },
    {
      "cell_type": "code",
      "source": [
        "!pip install plotly\n"
      ],
      "metadata": {
        "colab": {
          "base_uri": "https://localhost:8080/"
        },
        "id": "p9xMM9xnKI54",
        "outputId": "8d30bd0a-542b-4254-f3ef-ff53b9a4952c"
      },
      "execution_count": 7,
      "outputs": [
        {
          "output_type": "stream",
          "name": "stdout",
          "text": [
            "Requirement already satisfied: plotly in /usr/local/lib/python3.10/dist-packages (5.15.0)\n",
            "Requirement already satisfied: tenacity>=6.2.0 in /usr/local/lib/python3.10/dist-packages (from plotly) (8.4.1)\n",
            "Requirement already satisfied: packaging in /usr/local/lib/python3.10/dist-packages (from plotly) (24.1)\n"
          ]
        }
      ]
    },
    {
      "cell_type": "code",
      "source": [
        "!pip install scikit-learn"
      ],
      "metadata": {
        "id": "wXB-FpM9YZje",
        "outputId": "7232314e-eae2-4c5c-b88c-1c8002f3e960",
        "colab": {
          "base_uri": "https://localhost:8080/"
        }
      },
      "execution_count": 8,
      "outputs": [
        {
          "output_type": "stream",
          "name": "stdout",
          "text": [
            "Requirement already satisfied: scikit-learn in /usr/local/lib/python3.10/dist-packages (1.2.2)\n",
            "Requirement already satisfied: numpy>=1.17.3 in /usr/local/lib/python3.10/dist-packages (from scikit-learn) (1.25.2)\n",
            "Requirement already satisfied: scipy>=1.3.2 in /usr/local/lib/python3.10/dist-packages (from scikit-learn) (1.11.4)\n",
            "Requirement already satisfied: joblib>=1.1.1 in /usr/local/lib/python3.10/dist-packages (from scikit-learn) (1.4.2)\n",
            "Requirement already satisfied: threadpoolctl>=2.0.0 in /usr/local/lib/python3.10/dist-packages (from scikit-learn) (3.5.0)\n"
          ]
        }
      ]
    },
    {
      "cell_type": "code",
      "source": [
        "%%writefile lulusan.py\n",
        "import streamlit as st\n",
        "from datetime import time, date\n",
        "import pandas as pd\n",
        "import matplotlib.pyplot as plt\n",
        "import seaborn as sns\n",
        "import plotly.figure_factory as ff\n",
        "import plotly.graph_objs as go\n",
        "from sklearn.linear_model import LinearRegression\n",
        "from sklearn.model_selection import train_test_split, KFold\n",
        "from sklearn.metrics import mean_squared_error, r2_score\n",
        "from math import sqrt\n",
        "import numpy as np\n",
        "from pyngrok import ngrok\n",
        "import subprocess\n",
        "\n",
        "# Set style untuk seaborn\n",
        "sns.set_style(\"darkgrid\")\n",
        "\n",
        "# Definisikan aplikasi Streamlit\n",
        "def run():\n",
        "    st.title(\"Data Lulusan STIKES HAKLI Semarang\")\n",
        "\n",
        "    st.markdown(\"\"\"\n",
        "        Dataset ini berisi informasi tentang Jumlah lulusan mahasiswa STIKES HAKLI Semarang.\n",
        "\n",
        "        ## Pernyataan Masalah\n",
        "        Kita ingin menganalisis Jumlah Lulusan mahasiswa dan membangun model prediktif untuk beberapa parameter mahasiswa.\n",
        "    ### Deskripsi Data\n",
        "        - No\n",
        "        - Tahun\n",
        "        - Kesling\n",
        "        - RMIK\n",
        "        - KESMAS\n",
        "        - RO\n",
        "    \"\"\")\n",
        "\n",
        "    st.sidebar.title(\"Operasi pada Dataset\")\n",
        "\n",
        "    w1 = st.sidebar.checkbox(\"Tampilkan tabel\", False)\n",
        "    plot = st.sidebar.checkbox(\"Tampilkan plot\", False)\n",
        "    plothist = st.sidebar.checkbox(\"Tampilkan plot histogram\", False)\n",
        "    trainmodel = st.sidebar.checkbox(\"Latih model\", False)\n",
        "    dokfold = st.sidebar.checkbox(\"Lakukan KFold\", False)\n",
        "    distView = st.sidebar.checkbox(\"Tampilan Distribusi\", False)\n",
        "    _3dplot = st.sidebar.checkbox(\"Plot 3D\", False)\n",
        "    linechart = st.sidebar.checkbox(\"Grafik Garis\", False)\n",
        "    show_graduates = st.sidebar.checkbox(\"Tampilkan jumlah lulusan\", False)\n",
        "\n",
        "    @st.cache_data\n",
        "    def read_data():\n",
        "        return pd.read_excel(\"https://github.com/rahadiyant/lulusan/raw/main/Data_Lulusan_stikes.xlsx\")\n",
        "\n",
        "    df = read_data()\n",
        "\n",
        "    if w1:\n",
        "        st.dataframe(df)\n",
        "\n",
        "    if show_graduates:\n",
        "        st.subheader(\"Jumlah Lulusan Per Tahun dan Total Lulusan\")\n",
        "        df['Total'] = df[['Kesling', 'RMIK', 'KESMAS', 'RO']].sum(axis=1)\n",
        "        graduates_per_year = df.groupby('Tahun')['Total'].sum()\n",
        "        total_graduates = df['Total'].sum()\n",
        "\n",
        "        st.write(\"Jumlah Lulusan Per Tahun:\")\n",
        "        st.write(graduates_per_year)\n",
        "\n",
        "        st.write(f\"Total Lulusan: {total_graduates}\")\n",
        "\n",
        "    if linechart:\n",
        "        st.subheader(\"Grafik Garis\")\n",
        "        numeric_df = df.select_dtypes(include=[np.number])  # Only numerical columns\n",
        "        st.line_chart(numeric_df)\n",
        "\n",
        "    if plothist:\n",
        "        st.subheader(\"Distribusi Setiap Kolom\")\n",
        "        options = df.columns.tolist()\n",
        "        sel_cols = st.selectbox(\"Pilih kolom\", options, 0, key=\"plothist_selectbox\")\n",
        "        fig = go.Figure(data=[go.Histogram(x=df[sel_cols], nbinsx=50)])\n",
        "        st.plotly_chart(fig)\n",
        "\n",
        "    if plot:\n",
        "        st.subheader(\"Korelasi antara Parameter\")\n",
        "        options = df.select_dtypes(include=[np.number]).columns.tolist()\n",
        "        w7 = st.selectbox(\"Pilih parameter\", options, 0, key=\"plot_selectbox\")\n",
        "\n",
        "        fig, ax = plt.subplots()\n",
        "        ax.scatter(df.index, df[w7])\n",
        "        ax.set_xlabel(\"Index\")\n",
        "        ax.set_ylabel(w7)\n",
        "        ax.set_title(f\"Scatter Plot: {w7}\")\n",
        "        st.pyplot(fig)\n",
        "\n",
        "    if distView:\n",
        "        st.subheader(\"Tampilan Distribusi Gabungan\")\n",
        "        numeric_df = df.select_dtypes(include=[np.number])  # Only numerical columns\n",
        "        columns_to_plot = st.multiselect('Pilih kolom untuk ditampilkan dalam distribusi', numeric_df.columns.tolist(), key=\"distView_multiselect\")\n",
        "        if columns_to_plot:\n",
        "            hist_data = [numeric_df[col].dropna().values for col in columns_to_plot]\n",
        "            group_labels = columns_to_plot\n",
        "            fig = ff.create_distplot(hist_data, group_labels, bin_size=[.1]*len(hist_data))\n",
        "            st.plotly_chart(fig)\n",
        "\n",
        "    if _3dplot:\n",
        "        numeric_columns = df.select_dtypes(include=[np.number]).columns.tolist()\n",
        "        if len(numeric_columns) >= 3:\n",
        "            options = st.multiselect('Pilih kolom untuk plot', numeric_columns, numeric_columns[:3], key=\"3dplot_multiselect\")\n",
        "            st.write('Anda memilih:', options)\n",
        "            if len(options) >= 3:\n",
        "                hist_data = [df[col].dropna().values for col in options]\n",
        "                trace1 = go.Scatter3d(\n",
        "                    x=hist_data[0],\n",
        "                    y=hist_data[1],\n",
        "                    z=hist_data[2] if len(hist_data) > 2 else hist_data[0],\n",
        "                    mode=\"markers\",\n",
        "                    marker=dict(size=8, colorscale=\"Viridis\"),\n",
        "                )\n",
        "                data = [trace1]\n",
        "                layout = go.Layout(margin=dict(l=0, r=0, b=0, t=0))\n",
        "                fig = go.Figure(data=data, layout=layout)\n",
        "                st.plotly_chart(fig)\n",
        "            else:\n",
        "                st.error(\"Pilih setidaknya tiga kolom untuk plot 3D.\")\n",
        "        else:\n",
        "            st.error(\"Tidak cukup kolom numerik untuk plot 3D.\")\n",
        "\n",
        "    if trainmodel:\n",
        "        st.header(\"Pemodelan\")\n",
        "        target_column = st.selectbox(\"Pilih kolom target\", df.columns, key=\"trainmodel_selectbox\")\n",
        "        if target_column in df.columns:\n",
        "            y = df[target_column]\n",
        "            X = df.drop(columns=[target_column]).select_dtypes(include=[np.number]).values\n",
        "            X_train, X_test, y_train, y_test = train_test_split(X, y, test_size=0.3, random_state=42)\n",
        "            lrgr = LinearRegression()\n",
        "            lrgr.fit(X_train, y_train)\n",
        "            pred = lrgr.predict(X_test)\n",
        "            mse = mean_squared_error(y_test, pred)\n",
        "            rmse = sqrt(mse)\n",
        "            st.markdown(f\"\"\"\n",
        "            Model Regresi Linear telah dilatih :\n",
        "                - MSE: {mse}\n",
        "                - RMSE: {rmse}\n",
        "            \"\"\")\n",
        "            st.success('Model berhasil dilatih')\n",
        "        else:\n",
        "            st.error(f\"Kolom '{target_column}' tidak ditemukan dalam dataset.\")\n",
        "\n",
        "    if dokfold:\n",
        "        st.subheader(\"Evaluasi KFold Random Sampling\")\n",
        "        target_column = st.selectbox(\"Pilih kolom target\", df.columns, key=\"dokfold_selectbox\")\n",
        "        if target_column in df.columns:\n",
        "            my_bar = st.progress(0)\n",
        "            X = df.drop(columns=[target_column]).select_dtypes(include=[np.number]).values\n",
        "            y = df[target_column].values\n",
        "            kf = KFold(n_splits=10, shuffle=True, random_state=42)\n",
        "            mse_list = []\n",
        "            rmse_list = []\n",
        "            r2_list = []\n",
        "            idx = 1\n",
        "            fig, ax = plt.subplots()\n",
        "            for train_index, test_index in kf.split(X):\n",
        "                my_bar.progress(idx * 10)\n",
        "                X_train, X_test = X[train_index], X[test_index]\n",
        "                y_train, y_test = y[train_index], y[test_index]\n",
        "                lrgr = LinearRegression()\n",
        "                lrgr.fit(X_train, y_train)\n",
        "                pred = lrgr.predict(X_test)\n",
        "                mse = mean_squared_error(y_test, pred)\n",
        "                rmse = sqrt(mse)\n",
        "                r2 = r2_score(y_test, pred)\n",
        "                mse_list.append(mse)\n",
        "                rmse_list.append(rmse)\n",
        "                r2_list.append(r2)\n",
        "                ax.plot(pred, label=f\"dataset-{idx}\")\n",
        "                idx += 1\n",
        "            ax.legend()\n",
        "            ax.set_xlabel(\"Indeks Data\")\n",
        "            ax.set_ylabel(\"Nilai Prediksi\")\n",
        "\n",
        "            st.pyplot(fig)\n",
        "            res = pd.DataFrame({\"MSE\": mse_list, \"RMSE\": rmse_list, \"r2_SCORE\": r2_list})\n",
        "\n",
        "            st.write(res)\n",
        "            st.balloons()\n",
        "        else:\n",
        "            st.error(f\"Kolom '{target_column}' tidak ditemukan dalam dataset.\")\n",
        "\n",
        "# Jalankan aplikasi Streamlit\n",
        "if __name__ == '__main__':\n",
        "    # Masukkan authtoken Anda di sini\n",
        "    authtoken = \"2iGPhwuhpDx6Dw8igQxD0gQSdKN_51YPPWpyt1Un7E5Um4Tt5\"\n",
        "    ngrok.set_auth_token(authtoken)\n",
        "\n",
        "    # Buka terowongan ke aplikasi Streamlit\n",
        "    public_url = ngrok.connect(port='8502')\n",
        "    print(f\"Streamlit app running at: {public_url}\")\n",
        "\n",
        "    # Jalankan aplikasi Streamlit\n",
        "    process = subprocess.Popen(['streamlit', 'run', 'lulusan.py'])\n"
      ],
      "metadata": {
        "id": "EdkVOzVab4Rt",
        "outputId": "dffa37c1-15f1-48eb-e25a-a41201fb2552",
        "colab": {
          "base_uri": "https://localhost:8080/"
        }
      },
      "execution_count": 25,
      "outputs": [
        {
          "output_type": "stream",
          "name": "stdout",
          "text": [
            "Overwriting lulusan.py\n"
          ]
        }
      ]
    },
    {
      "cell_type": "markdown",
      "source": [],
      "metadata": {
        "id": "KpOYVkOuaCJV"
      }
    },
    {
      "cell_type": "markdown",
      "source": [],
      "metadata": {
        "id": "h_5NRruTaCLr"
      }
    },
    {
      "cell_type": "code",
      "source": [
        "!streamlit run lulusan.py &>/dev/null&"
      ],
      "metadata": {
        "id": "M7-QLmuucUSe"
      },
      "execution_count": 10,
      "outputs": []
    },
    {
      "cell_type": "code",
      "source": [
        "from pyngrok import ngrok"
      ],
      "metadata": {
        "id": "Mtj5OiXqcVw8"
      },
      "execution_count": 11,
      "outputs": []
    },
    {
      "cell_type": "code",
      "source": [
        "pip install --upgrade pyngrok"
      ],
      "metadata": {
        "id": "IBlblmA7g5DN",
        "outputId": "c4b65b1d-f42c-4d90-a7a1-39a27bb33028",
        "colab": {
          "base_uri": "https://localhost:8080/"
        }
      },
      "execution_count": 18,
      "outputs": [
        {
          "output_type": "stream",
          "name": "stdout",
          "text": [
            "Requirement already satisfied: pyngrok in /usr/local/lib/python3.10/dist-packages (7.1.6)\n",
            "Requirement already satisfied: PyYAML>=5.1 in /usr/local/lib/python3.10/dist-packages (from pyngrok) (6.0.1)\n"
          ]
        }
      ]
    },
    {
      "cell_type": "code",
      "source": [
        "from pyngrok import ngrok\n",
        "\n",
        "config = {\n",
        "    \"addr\": \"8502\",\n",
        "    \"proto\": \"http\"\n",
        "}\n",
        "public_url = ngrok.connect(**config)"
      ],
      "metadata": {
        "id": "Nv0Is4M7hGI4"
      },
      "execution_count": 26,
      "outputs": []
    },
    {
      "cell_type": "code",
      "source": [
        "from pyngrok import ngrok\n",
        "ngrok.set_auth_token(\"2iGPhwuhpDx6Dw8igQxD0gQSdKN_51YPPWpyt1Un7E5Um4Tt5\")"
      ],
      "metadata": {
        "id": "ZOwRl8MjhQYE"
      },
      "execution_count": 23,
      "outputs": []
    },
    {
      "cell_type": "code",
      "source": [
        "!streamlit run lulusan.py & npx localtunnel --port 8502"
      ],
      "metadata": {
        "id": "ugydoFJ3jB6l",
        "outputId": "cc1759fa-f046-47b5-9c6c-b93eab59fba8",
        "colab": {
          "base_uri": "https://localhost:8080/"
        }
      },
      "execution_count": null,
      "outputs": [
        {
          "output_type": "stream",
          "name": "stdout",
          "text": [
            "\n",
            "Collecting usage statistics. To deactivate, set browser.gatherUsageStats to false.\n",
            "\u001b[0m\n",
            "\u001b[0m\n",
            "\u001b[34m\u001b[1m  You can now view your Streamlit app in your browser.\u001b[0m\n",
            "\u001b[0m\n",
            "\u001b[34m  Local URL: \u001b[0m\u001b[1mhttp://localhost:8501\u001b[0m\n",
            "\u001b[34m  Network URL: \u001b[0m\u001b[1mhttp://172.28.0.12:8501\u001b[0m\n",
            "\u001b[34m  External URL: \u001b[0m\u001b[1mhttp://35.234.51.73:8501\u001b[0m\n",
            "\u001b[0m\n",
            "\u001b[K\u001b[?25hnpx: installed 22 in 2.154s\n",
            "your url is: https://good-cases-jam.loca.lt\n"
          ]
        }
      ]
    }
  ]
}